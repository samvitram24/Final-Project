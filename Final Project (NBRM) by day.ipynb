{
 "cells": [
  {
   "cell_type": "code",
   "execution_count": 1,
   "metadata": {},
   "outputs": [],
   "source": [
    "import pandas as pd\n",
    "from patsy import dmatrices\n",
    "import numpy as np\n",
    "import statsmodels.api as sm\n",
    "import matplotlib.pyplot as plt\n",
    "import statsmodels.formula.api as smf"
   ]
  },
  {
   "cell_type": "code",
   "execution_count": 2,
   "metadata": {},
   "outputs": [
    {
     "data": {
      "text/plain": [
       "MapQuest         2414301\n",
       "Bing             1034799\n",
       "MapQuest-Bing      64517\n",
       "Name: Source, dtype: int64"
      ]
     },
     "execution_count": 2,
     "metadata": {},
     "output_type": "execute_result"
    }
   ],
   "source": [
    "df = pd.read_csv('US_Accidents_June20.csv', header=0, infer_datetime_format=True, parse_dates=[0], index_col=[0])\n",
    "df.Source.value_counts()"
   ]
  },
  {
   "cell_type": "code",
   "execution_count": 3,
   "metadata": {
    "scrolled": true
   },
   "outputs": [
    {
     "data": {
      "text/plain": [
       "Index(['Source', 'TMC', 'Severity', 'Start_Time', 'End_Time', 'Start_Lat',\n",
       "       'Start_Lng', 'End_Lat', 'End_Lng', 'Distance(mi)', 'Description',\n",
       "       'Number', 'Street', 'Side', 'City', 'County', 'State', 'Zipcode',\n",
       "       'Country', 'Timezone', 'Airport_Code', 'Weather_Timestamp',\n",
       "       'Temperature(F)', 'Wind_Chill(F)', 'Humidity(%)', 'Pressure(in)',\n",
       "       'Visibility(mi)', 'Wind_Direction', 'Wind_Speed(mph)',\n",
       "       'Precipitation(in)', 'Weather_Condition', 'Amenity', 'Bump', 'Crossing',\n",
       "       'Give_Way', 'Junction', 'No_Exit', 'Railway', 'Roundabout', 'Station',\n",
       "       'Stop', 'Traffic_Calming', 'Traffic_Signal', 'Turning_Loop',\n",
       "       'Sunrise_Sunset', 'Civil_Twilight', 'Nautical_Twilight',\n",
       "       'Astronomical_Twilight'],\n",
       "      dtype='object')"
      ]
     },
     "execution_count": 3,
     "metadata": {},
     "output_type": "execute_result"
    }
   ],
   "source": [
    "df.columns"
   ]
  },
  {
   "cell_type": "code",
   "execution_count": 4,
   "metadata": {},
   "outputs": [],
   "source": [
    "df_update=df.drop(['TMC','Severity','End_Time','Distance(mi)','End_Lat','End_Lng','Description', 'Number', 'Street', 'Side', 'City', 'County', 'State','Zipcode', 'Country', 'Timezone', 'Airport_Code','Weather_Timestamp', 'Wind_Chill(F)', 'Humidity(%)', 'Pressure(in)','Wind_Direction','Civil_Twilight', 'Nautical_Twilight','Astronomical_Twilight','Amenity', 'Bump', 'Crossing','Give_Way', 'Junction', 'No_Exit', 'Railway', 'Roundabout', 'Station','Stop', 'Traffic_Calming', 'Traffic_Signal', 'Turning_Loop'], axis=1, inplace=True)\n"
   ]
  },
  {
   "cell_type": "code",
   "execution_count": 5,
   "metadata": {},
   "outputs": [
    {
     "data": {
      "text/plain": [
       "Index(['Source', 'Start_Time', 'Start_Lat', 'Start_Lng', 'Temperature(F)',\n",
       "       'Visibility(mi)', 'Wind_Speed(mph)', 'Precipitation(in)',\n",
       "       'Weather_Condition', 'Sunrise_Sunset'],\n",
       "      dtype='object')"
      ]
     },
     "execution_count": 5,
     "metadata": {},
     "output_type": "execute_result"
    }
   ],
   "source": [
    "df.columns"
   ]
  },
  {
   "cell_type": "code",
   "execution_count": 6,
   "metadata": {},
   "outputs": [
    {
     "data": {
      "text/plain": [
       "Source                object\n",
       "Start_Time            object\n",
       "Start_Lat            float64\n",
       "Start_Lng            float64\n",
       "Temperature(F)       float64\n",
       "Visibility(mi)       float64\n",
       "Wind_Speed(mph)      float64\n",
       "Precipitation(in)    float64\n",
       "Weather_Condition     object\n",
       "Sunrise_Sunset        object\n",
       "dtype: object"
      ]
     },
     "execution_count": 6,
     "metadata": {},
     "output_type": "execute_result"
    }
   ],
   "source": [
    "df.dtypes"
   ]
  },
  {
   "cell_type": "code",
   "execution_count": 7,
   "metadata": {},
   "outputs": [
    {
     "data": {
      "text/html": [
       "<div>\n",
       "<style scoped>\n",
       "    .dataframe tbody tr th:only-of-type {\n",
       "        vertical-align: middle;\n",
       "    }\n",
       "\n",
       "    .dataframe tbody tr th {\n",
       "        vertical-align: top;\n",
       "    }\n",
       "\n",
       "    .dataframe thead th {\n",
       "        text-align: right;\n",
       "    }\n",
       "</style>\n",
       "<table border=\"1\" class=\"dataframe\">\n",
       "  <thead>\n",
       "    <tr style=\"text-align: right;\">\n",
       "      <th></th>\n",
       "      <th>Source</th>\n",
       "      <th>Start_Time</th>\n",
       "      <th>Start_Lat</th>\n",
       "      <th>Start_Lng</th>\n",
       "      <th>Temperature(F)</th>\n",
       "      <th>Visibility(mi)</th>\n",
       "      <th>Wind_Speed(mph)</th>\n",
       "      <th>Precipitation(in)</th>\n",
       "      <th>Weather_Condition</th>\n",
       "      <th>Sunrise_Sunset</th>\n",
       "    </tr>\n",
       "    <tr>\n",
       "      <th>ID</th>\n",
       "      <th></th>\n",
       "      <th></th>\n",
       "      <th></th>\n",
       "      <th></th>\n",
       "      <th></th>\n",
       "      <th></th>\n",
       "      <th></th>\n",
       "      <th></th>\n",
       "      <th></th>\n",
       "      <th></th>\n",
       "    </tr>\n",
       "  </thead>\n",
       "  <tbody>\n",
       "    <tr>\n",
       "      <th>A-1</th>\n",
       "      <td>MapQuest</td>\n",
       "      <td>2016-02-08</td>\n",
       "      <td>39.865147</td>\n",
       "      <td>-84.058723</td>\n",
       "      <td>36.9</td>\n",
       "      <td>10.0</td>\n",
       "      <td>NaN</td>\n",
       "      <td>0.02</td>\n",
       "      <td>Light Rain</td>\n",
       "      <td>Night</td>\n",
       "    </tr>\n",
       "    <tr>\n",
       "      <th>A-2</th>\n",
       "      <td>MapQuest</td>\n",
       "      <td>2016-02-08</td>\n",
       "      <td>39.928059</td>\n",
       "      <td>-82.831184</td>\n",
       "      <td>37.9</td>\n",
       "      <td>10.0</td>\n",
       "      <td>NaN</td>\n",
       "      <td>0.00</td>\n",
       "      <td>Light Rain</td>\n",
       "      <td>Night</td>\n",
       "    </tr>\n",
       "    <tr>\n",
       "      <th>A-3</th>\n",
       "      <td>MapQuest</td>\n",
       "      <td>2016-02-08</td>\n",
       "      <td>39.063148</td>\n",
       "      <td>-84.032608</td>\n",
       "      <td>36.0</td>\n",
       "      <td>10.0</td>\n",
       "      <td>3.5</td>\n",
       "      <td>NaN</td>\n",
       "      <td>Overcast</td>\n",
       "      <td>Night</td>\n",
       "    </tr>\n",
       "    <tr>\n",
       "      <th>A-4</th>\n",
       "      <td>MapQuest</td>\n",
       "      <td>2016-02-08</td>\n",
       "      <td>39.747753</td>\n",
       "      <td>-84.205582</td>\n",
       "      <td>35.1</td>\n",
       "      <td>9.0</td>\n",
       "      <td>4.6</td>\n",
       "      <td>NaN</td>\n",
       "      <td>Mostly Cloudy</td>\n",
       "      <td>Night</td>\n",
       "    </tr>\n",
       "    <tr>\n",
       "      <th>A-5</th>\n",
       "      <td>MapQuest</td>\n",
       "      <td>2016-02-08</td>\n",
       "      <td>39.627781</td>\n",
       "      <td>-84.188354</td>\n",
       "      <td>36.0</td>\n",
       "      <td>6.0</td>\n",
       "      <td>3.5</td>\n",
       "      <td>NaN</td>\n",
       "      <td>Mostly Cloudy</td>\n",
       "      <td>Day</td>\n",
       "    </tr>\n",
       "    <tr>\n",
       "      <th>...</th>\n",
       "      <td>...</td>\n",
       "      <td>...</td>\n",
       "      <td>...</td>\n",
       "      <td>...</td>\n",
       "      <td>...</td>\n",
       "      <td>...</td>\n",
       "      <td>...</td>\n",
       "      <td>...</td>\n",
       "      <td>...</td>\n",
       "      <td>...</td>\n",
       "    </tr>\n",
       "    <tr>\n",
       "      <th>A-3513776</th>\n",
       "      <td>Bing</td>\n",
       "      <td>2019-08-23</td>\n",
       "      <td>34.002480</td>\n",
       "      <td>-117.379360</td>\n",
       "      <td>86.0</td>\n",
       "      <td>10.0</td>\n",
       "      <td>13.0</td>\n",
       "      <td>0.00</td>\n",
       "      <td>Fair</td>\n",
       "      <td>Day</td>\n",
       "    </tr>\n",
       "    <tr>\n",
       "      <th>A-3513777</th>\n",
       "      <td>Bing</td>\n",
       "      <td>2019-08-23</td>\n",
       "      <td>32.766960</td>\n",
       "      <td>-117.148060</td>\n",
       "      <td>70.0</td>\n",
       "      <td>10.0</td>\n",
       "      <td>6.0</td>\n",
       "      <td>0.00</td>\n",
       "      <td>Fair</td>\n",
       "      <td>Day</td>\n",
       "    </tr>\n",
       "    <tr>\n",
       "      <th>A-3513778</th>\n",
       "      <td>Bing</td>\n",
       "      <td>2019-08-23</td>\n",
       "      <td>33.775450</td>\n",
       "      <td>-117.847790</td>\n",
       "      <td>73.0</td>\n",
       "      <td>10.0</td>\n",
       "      <td>10.0</td>\n",
       "      <td>0.00</td>\n",
       "      <td>Partly Cloudy</td>\n",
       "      <td>Day</td>\n",
       "    </tr>\n",
       "    <tr>\n",
       "      <th>A-3513779</th>\n",
       "      <td>Bing</td>\n",
       "      <td>2019-08-23</td>\n",
       "      <td>33.992460</td>\n",
       "      <td>-118.403020</td>\n",
       "      <td>71.0</td>\n",
       "      <td>10.0</td>\n",
       "      <td>8.0</td>\n",
       "      <td>0.00</td>\n",
       "      <td>Fair</td>\n",
       "      <td>Day</td>\n",
       "    </tr>\n",
       "    <tr>\n",
       "      <th>A-3513780</th>\n",
       "      <td>Bing</td>\n",
       "      <td>2019-08-23</td>\n",
       "      <td>34.133930</td>\n",
       "      <td>-117.230920</td>\n",
       "      <td>79.0</td>\n",
       "      <td>7.0</td>\n",
       "      <td>7.0</td>\n",
       "      <td>0.00</td>\n",
       "      <td>Fair</td>\n",
       "      <td>Day</td>\n",
       "    </tr>\n",
       "  </tbody>\n",
       "</table>\n",
       "<p>3513617 rows × 10 columns</p>\n",
       "</div>"
      ],
      "text/plain": [
       "             Source  Start_Time  Start_Lat   Start_Lng  Temperature(F)  \\\n",
       "ID                                                                       \n",
       "A-1        MapQuest  2016-02-08  39.865147  -84.058723            36.9   \n",
       "A-2        MapQuest  2016-02-08  39.928059  -82.831184            37.9   \n",
       "A-3        MapQuest  2016-02-08  39.063148  -84.032608            36.0   \n",
       "A-4        MapQuest  2016-02-08  39.747753  -84.205582            35.1   \n",
       "A-5        MapQuest  2016-02-08  39.627781  -84.188354            36.0   \n",
       "...             ...         ...        ...         ...             ...   \n",
       "A-3513776      Bing  2019-08-23  34.002480 -117.379360            86.0   \n",
       "A-3513777      Bing  2019-08-23  32.766960 -117.148060            70.0   \n",
       "A-3513778      Bing  2019-08-23  33.775450 -117.847790            73.0   \n",
       "A-3513779      Bing  2019-08-23  33.992460 -118.403020            71.0   \n",
       "A-3513780      Bing  2019-08-23  34.133930 -117.230920            79.0   \n",
       "\n",
       "           Visibility(mi)  Wind_Speed(mph)  Precipitation(in)  \\\n",
       "ID                                                              \n",
       "A-1                  10.0              NaN               0.02   \n",
       "A-2                  10.0              NaN               0.00   \n",
       "A-3                  10.0              3.5                NaN   \n",
       "A-4                   9.0              4.6                NaN   \n",
       "A-5                   6.0              3.5                NaN   \n",
       "...                   ...              ...                ...   \n",
       "A-3513776            10.0             13.0               0.00   \n",
       "A-3513777            10.0              6.0               0.00   \n",
       "A-3513778            10.0             10.0               0.00   \n",
       "A-3513779            10.0              8.0               0.00   \n",
       "A-3513780             7.0              7.0               0.00   \n",
       "\n",
       "          Weather_Condition Sunrise_Sunset  \n",
       "ID                                          \n",
       "A-1              Light Rain          Night  \n",
       "A-2              Light Rain          Night  \n",
       "A-3                Overcast          Night  \n",
       "A-4           Mostly Cloudy          Night  \n",
       "A-5           Mostly Cloudy            Day  \n",
       "...                     ...            ...  \n",
       "A-3513776              Fair            Day  \n",
       "A-3513777              Fair            Day  \n",
       "A-3513778     Partly Cloudy            Day  \n",
       "A-3513779              Fair            Day  \n",
       "A-3513780              Fair            Day  \n",
       "\n",
       "[3513617 rows x 10 columns]"
      ]
     },
     "execution_count": 7,
     "metadata": {},
     "output_type": "execute_result"
    }
   ],
   "source": [
    "df[\"Start_Time\"]= df.Start_Time.apply(lambda x: x.split()[0])\n",
    "df"
   ]
  },
  {
   "cell_type": "code",
   "execution_count": 8,
   "metadata": {},
   "outputs": [
    {
     "data": {
      "text/html": [
       "<div>\n",
       "<style scoped>\n",
       "    .dataframe tbody tr th:only-of-type {\n",
       "        vertical-align: middle;\n",
       "    }\n",
       "\n",
       "    .dataframe tbody tr th {\n",
       "        vertical-align: top;\n",
       "    }\n",
       "\n",
       "    .dataframe thead th {\n",
       "        text-align: right;\n",
       "    }\n",
       "</style>\n",
       "<table border=\"1\" class=\"dataframe\">\n",
       "  <thead>\n",
       "    <tr style=\"text-align: right;\">\n",
       "      <th></th>\n",
       "      <th>Number_of_Accidents</th>\n",
       "    </tr>\n",
       "  </thead>\n",
       "  <tbody>\n",
       "    <tr>\n",
       "      <th>2019-12-04</th>\n",
       "      <td>4883</td>\n",
       "    </tr>\n",
       "    <tr>\n",
       "      <th>2020-04-06</th>\n",
       "      <td>4718</td>\n",
       "    </tr>\n",
       "    <tr>\n",
       "      <th>2020-06-26</th>\n",
       "      <td>4678</td>\n",
       "    </tr>\n",
       "    <tr>\n",
       "      <th>2020-02-06</th>\n",
       "      <td>4654</td>\n",
       "    </tr>\n",
       "    <tr>\n",
       "      <th>2020-06-19</th>\n",
       "      <td>4651</td>\n",
       "    </tr>\n",
       "    <tr>\n",
       "      <th>...</th>\n",
       "      <td>...</td>\n",
       "    </tr>\n",
       "    <tr>\n",
       "      <th>2016-02-20</th>\n",
       "      <td>4</td>\n",
       "    </tr>\n",
       "    <tr>\n",
       "      <th>2016-10-28</th>\n",
       "      <td>3</td>\n",
       "    </tr>\n",
       "    <tr>\n",
       "      <th>2020-05-04</th>\n",
       "      <td>2</td>\n",
       "    </tr>\n",
       "    <tr>\n",
       "      <th>2019-08-24</th>\n",
       "      <td>2</td>\n",
       "    </tr>\n",
       "    <tr>\n",
       "      <th>2016-06-15</th>\n",
       "      <td>1</td>\n",
       "    </tr>\n",
       "  </tbody>\n",
       "</table>\n",
       "<p>1601 rows × 1 columns</p>\n",
       "</div>"
      ],
      "text/plain": [
       "            Number_of_Accidents\n",
       "2019-12-04                 4883\n",
       "2020-04-06                 4718\n",
       "2020-06-26                 4678\n",
       "2020-02-06                 4654\n",
       "2020-06-19                 4651\n",
       "...                         ...\n",
       "2016-02-20                    4\n",
       "2016-10-28                    3\n",
       "2020-05-04                    2\n",
       "2019-08-24                    2\n",
       "2016-06-15                    1\n",
       "\n",
       "[1601 rows x 1 columns]"
      ]
     },
     "execution_count": 8,
     "metadata": {},
     "output_type": "execute_result"
    }
   ],
   "source": [
    "df_y=pd.DataFrame(df.Start_Time.value_counts())\n",
    "df_y.columns=['Number_of_Accidents']\n",
    "df_y"
   ]
  },
  {
   "cell_type": "code",
   "execution_count": 9,
   "metadata": {},
   "outputs": [],
   "source": [
    "df_x=df.groupby(['Start_Time']).mean()\n",
    "df_x.rename(columns = {'Precipitation(in)':'Precipitation'}, inplace = True) \n",
    "df_x.rename(columns = {'Visibility(mi)':'Visibility'}, inplace = True)\n",
    "df_x.rename(columns = {'Wind_Speed(mph)':'Wind_Speed'}, inplace = True)\n",
    "df_x.rename(columns = {'Temperature(F)':'Temperature'}, inplace = True)"
   ]
  },
  {
   "cell_type": "code",
   "execution_count": 10,
   "metadata": {},
   "outputs": [
    {
     "data": {
      "text/html": [
       "<div>\n",
       "<style scoped>\n",
       "    .dataframe tbody tr th:only-of-type {\n",
       "        vertical-align: middle;\n",
       "    }\n",
       "\n",
       "    .dataframe tbody tr th {\n",
       "        vertical-align: top;\n",
       "    }\n",
       "\n",
       "    .dataframe thead th {\n",
       "        text-align: right;\n",
       "    }\n",
       "</style>\n",
       "<table border=\"1\" class=\"dataframe\">\n",
       "  <thead>\n",
       "    <tr style=\"text-align: right;\">\n",
       "      <th></th>\n",
       "      <th>Number_of_Accidents</th>\n",
       "    </tr>\n",
       "    <tr>\n",
       "      <th>Start_Time</th>\n",
       "      <th></th>\n",
       "    </tr>\n",
       "  </thead>\n",
       "  <tbody>\n",
       "    <tr>\n",
       "      <th>2016-02-08</th>\n",
       "      <td>60</td>\n",
       "    </tr>\n",
       "    <tr>\n",
       "      <th>2016-02-09</th>\n",
       "      <td>59</td>\n",
       "    </tr>\n",
       "    <tr>\n",
       "      <th>2016-02-10</th>\n",
       "      <td>49</td>\n",
       "    </tr>\n",
       "    <tr>\n",
       "      <th>2016-02-11</th>\n",
       "      <td>93</td>\n",
       "    </tr>\n",
       "    <tr>\n",
       "      <th>2016-02-12</th>\n",
       "      <td>18</td>\n",
       "    </tr>\n",
       "    <tr>\n",
       "      <th>...</th>\n",
       "      <td>...</td>\n",
       "    </tr>\n",
       "    <tr>\n",
       "      <th>2020-06-26</th>\n",
       "      <td>4678</td>\n",
       "    </tr>\n",
       "    <tr>\n",
       "      <th>2020-06-27</th>\n",
       "      <td>2032</td>\n",
       "    </tr>\n",
       "    <tr>\n",
       "      <th>2020-06-28</th>\n",
       "      <td>1757</td>\n",
       "    </tr>\n",
       "    <tr>\n",
       "      <th>2020-06-29</th>\n",
       "      <td>2455</td>\n",
       "    </tr>\n",
       "    <tr>\n",
       "      <th>2020-06-30</th>\n",
       "      <td>1378</td>\n",
       "    </tr>\n",
       "  </tbody>\n",
       "</table>\n",
       "<p>1601 rows × 1 columns</p>\n",
       "</div>"
      ],
      "text/plain": [
       "            Number_of_Accidents\n",
       "Start_Time                     \n",
       "2016-02-08                   60\n",
       "2016-02-09                   59\n",
       "2016-02-10                   49\n",
       "2016-02-11                   93\n",
       "2016-02-12                   18\n",
       "...                         ...\n",
       "2020-06-26                 4678\n",
       "2020-06-27                 2032\n",
       "2020-06-28                 1757\n",
       "2020-06-29                 2455\n",
       "2020-06-30                 1378\n",
       "\n",
       "[1601 rows x 1 columns]"
      ]
     },
     "execution_count": 10,
     "metadata": {},
     "output_type": "execute_result"
    }
   ],
   "source": [
    "df_y=df_y.reindex(df_x.index)\n",
    "df_y"
   ]
  },
  {
   "cell_type": "code",
   "execution_count": 11,
   "metadata": {},
   "outputs": [],
   "source": [
    "df_x['Number_of_Accidents']=df_y.Number_of_Accidents\n",
    "df_x.fillna(0, inplace=True)\n",
    "df_x.drop(['Start_Lat','Start_Lng'], axis=1, inplace=True)"
   ]
  },
  {
   "cell_type": "code",
   "execution_count": 12,
   "metadata": {},
   "outputs": [
    {
     "data": {
      "text/html": [
       "<div>\n",
       "<style scoped>\n",
       "    .dataframe tbody tr th:only-of-type {\n",
       "        vertical-align: middle;\n",
       "    }\n",
       "\n",
       "    .dataframe tbody tr th {\n",
       "        vertical-align: top;\n",
       "    }\n",
       "\n",
       "    .dataframe thead th {\n",
       "        text-align: right;\n",
       "    }\n",
       "</style>\n",
       "<table border=\"1\" class=\"dataframe\">\n",
       "  <thead>\n",
       "    <tr style=\"text-align: right;\">\n",
       "      <th></th>\n",
       "      <th>Temperature</th>\n",
       "      <th>Visibility</th>\n",
       "      <th>Wind_Speed</th>\n",
       "      <th>Precipitation</th>\n",
       "      <th>Number_of_Accidents</th>\n",
       "    </tr>\n",
       "    <tr>\n",
       "      <th>Start_Time</th>\n",
       "      <th></th>\n",
       "      <th></th>\n",
       "      <th></th>\n",
       "      <th></th>\n",
       "      <th></th>\n",
       "    </tr>\n",
       "  </thead>\n",
       "  <tbody>\n",
       "    <tr>\n",
       "      <th>2016-02-08</th>\n",
       "      <td>35.388333</td>\n",
       "      <td>7.130000</td>\n",
       "      <td>6.363265</td>\n",
       "      <td>0.019375</td>\n",
       "      <td>60</td>\n",
       "    </tr>\n",
       "    <tr>\n",
       "      <th>2016-02-09</th>\n",
       "      <td>23.532203</td>\n",
       "      <td>2.410169</td>\n",
       "      <td>11.461017</td>\n",
       "      <td>0.003846</td>\n",
       "      <td>59</td>\n",
       "    </tr>\n",
       "    <tr>\n",
       "      <th>2016-02-10</th>\n",
       "      <td>17.765306</td>\n",
       "      <td>3.875510</td>\n",
       "      <td>12.965957</td>\n",
       "      <td>0.002581</td>\n",
       "      <td>49</td>\n",
       "    </tr>\n",
       "    <tr>\n",
       "      <th>2016-02-11</th>\n",
       "      <td>15.888172</td>\n",
       "      <td>9.263441</td>\n",
       "      <td>9.069048</td>\n",
       "      <td>0.000000</td>\n",
       "      <td>93</td>\n",
       "    </tr>\n",
       "    <tr>\n",
       "      <th>2016-02-12</th>\n",
       "      <td>19.205556</td>\n",
       "      <td>8.416667</td>\n",
       "      <td>15.927778</td>\n",
       "      <td>0.000000</td>\n",
       "      <td>18</td>\n",
       "    </tr>\n",
       "    <tr>\n",
       "      <th>...</th>\n",
       "      <td>...</td>\n",
       "      <td>...</td>\n",
       "      <td>...</td>\n",
       "      <td>...</td>\n",
       "      <td>...</td>\n",
       "    </tr>\n",
       "    <tr>\n",
       "      <th>2020-06-26</th>\n",
       "      <td>79.928322</td>\n",
       "      <td>9.601001</td>\n",
       "      <td>7.875520</td>\n",
       "      <td>0.004406</td>\n",
       "      <td>4678</td>\n",
       "    </tr>\n",
       "    <tr>\n",
       "      <th>2020-06-27</th>\n",
       "      <td>76.871859</td>\n",
       "      <td>9.243358</td>\n",
       "      <td>8.223737</td>\n",
       "      <td>0.007686</td>\n",
       "      <td>2032</td>\n",
       "    </tr>\n",
       "    <tr>\n",
       "      <th>2020-06-28</th>\n",
       "      <td>74.290304</td>\n",
       "      <td>9.390959</td>\n",
       "      <td>8.876241</td>\n",
       "      <td>0.008698</td>\n",
       "      <td>1757</td>\n",
       "    </tr>\n",
       "    <tr>\n",
       "      <th>2020-06-29</th>\n",
       "      <td>77.057796</td>\n",
       "      <td>9.589095</td>\n",
       "      <td>7.981289</td>\n",
       "      <td>0.004860</td>\n",
       "      <td>2455</td>\n",
       "    </tr>\n",
       "    <tr>\n",
       "      <th>2020-06-30</th>\n",
       "      <td>78.224686</td>\n",
       "      <td>9.409375</td>\n",
       "      <td>6.893570</td>\n",
       "      <td>0.012171</td>\n",
       "      <td>1378</td>\n",
       "    </tr>\n",
       "  </tbody>\n",
       "</table>\n",
       "<p>1601 rows × 5 columns</p>\n",
       "</div>"
      ],
      "text/plain": [
       "            Temperature  Visibility  Wind_Speed  Precipitation  \\\n",
       "Start_Time                                                       \n",
       "2016-02-08    35.388333    7.130000    6.363265       0.019375   \n",
       "2016-02-09    23.532203    2.410169   11.461017       0.003846   \n",
       "2016-02-10    17.765306    3.875510   12.965957       0.002581   \n",
       "2016-02-11    15.888172    9.263441    9.069048       0.000000   \n",
       "2016-02-12    19.205556    8.416667   15.927778       0.000000   \n",
       "...                 ...         ...         ...            ...   \n",
       "2020-06-26    79.928322    9.601001    7.875520       0.004406   \n",
       "2020-06-27    76.871859    9.243358    8.223737       0.007686   \n",
       "2020-06-28    74.290304    9.390959    8.876241       0.008698   \n",
       "2020-06-29    77.057796    9.589095    7.981289       0.004860   \n",
       "2020-06-30    78.224686    9.409375    6.893570       0.012171   \n",
       "\n",
       "            Number_of_Accidents  \n",
       "Start_Time                       \n",
       "2016-02-08                   60  \n",
       "2016-02-09                   59  \n",
       "2016-02-10                   49  \n",
       "2016-02-11                   93  \n",
       "2016-02-12                   18  \n",
       "...                         ...  \n",
       "2020-06-26                 4678  \n",
       "2020-06-27                 2032  \n",
       "2020-06-28                 1757  \n",
       "2020-06-29                 2455  \n",
       "2020-06-30                 1378  \n",
       "\n",
       "[1601 rows x 5 columns]"
      ]
     },
     "execution_count": 12,
     "metadata": {},
     "output_type": "execute_result"
    }
   ],
   "source": [
    "df_x"
   ]
  },
  {
   "cell_type": "code",
   "execution_count": 13,
   "metadata": {},
   "outputs": [
    {
     "name": "stdout",
     "output_type": "stream",
     "text": [
      "Training data set length=1292\n",
      "Testing data set length=309\n"
     ]
    }
   ],
   "source": [
    "#Create the training and testing data sets.\n",
    "mask = np.random.rand(len(df_x)) < 0.8\n",
    "df_train = df_x[mask]\n",
    "df_test = df_x[~mask]\n",
    "print('Training data set length='+str(len(df_train)))\n",
    "print('Testing data set length='+str(len(df_test)))"
   ]
  },
  {
   "cell_type": "code",
   "execution_count": 14,
   "metadata": {},
   "outputs": [
    {
     "name": "stdout",
     "output_type": "stream",
     "text": [
      "Number_of_Accidents ~ Temperature  + Visibility + Wind_Speed + Precipitation\n"
     ]
    }
   ],
   "source": [
    "#Setup the regression expression in patsy notation. We are telling patsy that  is our dependent variable and\n",
    "# it depends on the regression variables: \n",
    "expr = \"\"\"Number_of_Accidents ~ Temperature  + Visibility + Wind_Speed + Precipitation\"\"\"\n",
    "print(expr)"
   ]
  },
  {
   "cell_type": "code",
   "execution_count": 15,
   "metadata": {},
   "outputs": [],
   "source": [
    "#Set up the X and y matrices\n",
    "y_train, X_train = dmatrices(expr, df_train, return_type='dataframe')\n",
    "y_test, X_test = dmatrices(expr, df_test, return_type='dataframe')"
   ]
  },
  {
   "cell_type": "code",
   "execution_count": 16,
   "metadata": {},
   "outputs": [
    {
     "name": "stdout",
     "output_type": "stream",
     "text": [
      "                  Generalized Linear Model Regression Results                  \n",
      "===============================================================================\n",
      "Dep. Variable:     Number_of_Accidents   No. Observations:                 1292\n",
      "Model:                             GLM   Df Residuals:                     1287\n",
      "Model Family:                  Poisson   Df Model:                            4\n",
      "Link Function:                     log   Scale:                          1.0000\n",
      "Method:                           IRLS   Log-Likelihood:            -4.7966e+05\n",
      "Date:                 Fri, 07 Aug 2020   Deviance:                   9.4739e+05\n",
      "Time:                         13:07:08   Pearson chi2:                 8.05e+05\n",
      "No. Iterations:                      5                                         \n",
      "Covariance Type:             nonrobust                                         \n",
      "=================================================================================\n",
      "                    coef    std err          z      P>|z|      [0.025      0.975]\n",
      "---------------------------------------------------------------------------------\n",
      "Intercept         8.5978      0.008   1081.872      0.000       8.582       8.613\n",
      "Temperature      -0.0011   5.56e-05    -19.626      0.000      -0.001      -0.001\n",
      "Visibility       -0.0241      0.001    -25.658      0.000      -0.026      -0.022\n",
      "Wind_Speed       -0.0757      0.000   -173.224      0.000      -0.077      -0.075\n",
      "Precipitation     0.1937      0.010     19.095      0.000       0.174       0.214\n",
      "=================================================================================\n"
     ]
    }
   ],
   "source": [
    "#Using the statsmodels GLM class, train the Poisson regression model on the training data set.\n",
    "poisson_training_results = sm.GLM(y_train, X_train, family=sm.families.Poisson()).fit()\n",
    "\n",
    "#Print the training summary.\n",
    "print(poisson_training_results.summary())"
   ]
  },
  {
   "cell_type": "code",
   "execution_count": 17,
   "metadata": {},
   "outputs": [
    {
     "name": "stdout",
     "output_type": "stream",
     "text": [
      "[2721.87895592 2093.96617906 2143.56699901 ... 2172.19644979 2038.07019616\n",
      " 2162.43363001]\n",
      "1292\n"
     ]
    }
   ],
   "source": [
    "print(poisson_training_results.mu)\n",
    "print(len(poisson_training_results.mu))"
   ]
  },
  {
   "cell_type": "code",
   "execution_count": 18,
   "metadata": {},
   "outputs": [
    {
     "name": "stderr",
     "output_type": "stream",
     "text": [
      "C:\\Users\\rams\\anaconda3\\lib\\site-packages\\ipykernel_launcher.py:1: SettingWithCopyWarning: \n",
      "A value is trying to be set on a copy of a slice from a DataFrame.\n",
      "Try using .loc[row_indexer,col_indexer] = value instead\n",
      "\n",
      "See the caveats in the documentation: https://pandas.pydata.org/pandas-docs/stable/user_guide/indexing.html#returning-a-view-versus-a-copy\n",
      "  \"\"\"Entry point for launching an IPython kernel.\n"
     ]
    }
   ],
   "source": [
    "df_train['Number_of_Accidents_LAMBDA'] = poisson_training_results.mu"
   ]
  },
  {
   "cell_type": "code",
   "execution_count": 19,
   "metadata": {},
   "outputs": [
    {
     "name": "stderr",
     "output_type": "stream",
     "text": [
      "C:\\Users\\rams\\anaconda3\\lib\\site-packages\\ipykernel_launcher.py:1: SettingWithCopyWarning: \n",
      "A value is trying to be set on a copy of a slice from a DataFrame.\n",
      "Try using .loc[row_indexer,col_indexer] = value instead\n",
      "\n",
      "See the caveats in the documentation: https://pandas.pydata.org/pandas-docs/stable/user_guide/indexing.html#returning-a-view-versus-a-copy\n",
      "  \"\"\"Entry point for launching an IPython kernel.\n"
     ]
    }
   ],
   "source": [
    "df_train['AUX_OLS_DEP'] = df_train.apply(lambda x: ((x['Number_of_Accidents'] - x['Number_of_Accidents_LAMBDA'])**2 - x['Number_of_Accidents']) / x['Number_of_Accidents_LAMBDA'], axis=1)"
   ]
  },
  {
   "cell_type": "code",
   "execution_count": 20,
   "metadata": {},
   "outputs": [],
   "source": [
    "ols_expr = \"\"\"AUX_OLS_DEP ~ Number_of_Accidents_LAMBDA - 1\"\"\""
   ]
  },
  {
   "cell_type": "code",
   "execution_count": 21,
   "metadata": {},
   "outputs": [],
   "source": [
    "aux_olsr_results = smf.ols(ols_expr, df_train).fit()"
   ]
  },
  {
   "cell_type": "code",
   "execution_count": 22,
   "metadata": {},
   "outputs": [
    {
     "name": "stdout",
     "output_type": "stream",
     "text": [
      "Number_of_Accidents_LAMBDA    0.281874\n",
      "dtype: float64\n"
     ]
    }
   ],
   "source": [
    "print(aux_olsr_results.params)"
   ]
  },
  {
   "cell_type": "code",
   "execution_count": 23,
   "metadata": {},
   "outputs": [
    {
     "data": {
      "text/plain": [
       "Number_of_Accidents_LAMBDA    38.766043\n",
       "dtype: float64"
      ]
     },
     "execution_count": 23,
     "metadata": {},
     "output_type": "execute_result"
    }
   ],
   "source": [
    "aux_olsr_results.tvalues"
   ]
  },
  {
   "cell_type": "code",
   "execution_count": 24,
   "metadata": {},
   "outputs": [],
   "source": [
    "nb2_training_results = sm.GLM(y_train, X_train,family=sm.families.NegativeBinomial(alpha=aux_olsr_results.params[0])).fit()"
   ]
  },
  {
   "cell_type": "code",
   "execution_count": 25,
   "metadata": {},
   "outputs": [
    {
     "name": "stdout",
     "output_type": "stream",
     "text": [
      "                  Generalized Linear Model Regression Results                  \n",
      "===============================================================================\n",
      "Dep. Variable:     Number_of_Accidents   No. Observations:                 1292\n",
      "Model:                             GLM   Df Residuals:                     1287\n",
      "Model Family:         NegativeBinomial   Df Model:                            4\n",
      "Link Function:                     log   Scale:                          1.0000\n",
      "Method:                           IRLS   Log-Likelihood:                -11263.\n",
      "Date:                 Fri, 07 Aug 2020   Deviance:                       2608.6\n",
      "Time:                         13:07:08   Pearson chi2:                 1.33e+03\n",
      "No. Iterations:                      8                                         \n",
      "Covariance Type:             nonrobust                                         \n",
      "=================================================================================\n",
      "                    coef    std err          z      P>|z|      [0.025      0.975]\n",
      "---------------------------------------------------------------------------------\n",
      "Intercept         8.7775      0.201     43.674      0.000       8.384       9.171\n",
      "Temperature      -0.0012      0.001     -0.835      0.403      -0.004       0.002\n",
      "Visibility       -0.0374      0.024     -1.591      0.112      -0.084       0.009\n",
      "Wind_Speed       -0.0827      0.011     -7.852      0.000      -0.103      -0.062\n",
      "Precipitation     0.2786      0.255      1.092      0.275      -0.222       0.779\n",
      "=================================================================================\n"
     ]
    }
   ],
   "source": [
    "print(nb2_training_results.summary())"
   ]
  },
  {
   "cell_type": "code",
   "execution_count": 26,
   "metadata": {},
   "outputs": [],
   "source": [
    "nb2_predictions = nb2_training_results.get_prediction(X_test)"
   ]
  },
  {
   "cell_type": "code",
   "execution_count": 27,
   "metadata": {},
   "outputs": [
    {
     "name": "stdout",
     "output_type": "stream",
     "text": [
      "                   mean     mean_se  mean_ci_lower  mean_ci_upper\n",
      "Start_Time                                                       \n",
      "2016-02-10  1883.605337  221.367357    1496.077079    2371.514888\n",
      "2016-02-12  1241.128812  104.716172    1051.960711    1464.313935\n",
      "2016-02-14  2308.538633  165.869285    2005.293872    2657.640705\n",
      "2016-02-16  2862.172026  289.519108    2347.435140    3489.778512\n",
      "2016-02-18  2573.333024  127.716179    2334.803369    2836.231496\n",
      "...                 ...         ...            ...            ...\n",
      "2020-05-30  2136.409300   43.663430    2052.521918    2223.725193\n",
      "2020-06-02  2086.366898   54.407134    1982.410164    2195.775078\n",
      "2020-06-21  2351.238735   65.273071    2226.724059    2482.716064\n",
      "2020-06-27  2132.541631   57.520093    2022.732438    2248.312097\n",
      "2020-06-30  2364.889067   65.229448    2240.436011    2496.255314\n",
      "\n",
      "[309 rows x 4 columns]\n"
     ]
    }
   ],
   "source": [
    "predictions_summary_frame = nb2_predictions.summary_frame()\n",
    "print(predictions_summary_frame)"
   ]
  },
  {
   "cell_type": "code",
   "execution_count": 28,
   "metadata": {},
   "outputs": [
    {
     "data": {
      "image/png": "[encoded data removed]",
      "text/plain": [
       "<Figure size 432x288 with 1 Axes>"
      ]
     },
     "metadata": {
      "needs_background": "light"
     },
     "output_type": "display_data"
    }
   ],
   "source": [
    "predicted_counts=predictions_summary_frame['mean']\n",
    "actual_counts = y_test['Number_of_Accidents']\n",
    "fig = plt.figure()\n",
    "fig.suptitle('Predicted versus actual Number of Accidents')\n",
    "predicted, = plt.plot(X_test.index, predicted_counts, 'go-', label='Predicted counts' );\n",
    "actual, = plt.plot(X_test.index, actual_counts, 'ro-', label='Actual counts')\n",
    "plt.legend(handles=[predicted, actual])\n",
    "plt.show()"
   ]
  },
  {
   "cell_type": "code",
   "execution_count": 29,
   "metadata": {
    "scrolled": false
   },
   "outputs": [
    {
     "data": {
      "text/plain": [
       "<Figure size 432x288 with 0 Axes>"
      ]
     },
     "metadata": {},
     "output_type": "display_data"
    },
    {
     "data": {
      "image/png": "[encoded data removed]",
      "text/plain": [
       "<Figure size 432x288 with 1 Axes>"
      ]
     },
     "metadata": {
      "needs_background": "light"
     },
     "output_type": "display_data"
    }
   ],
   "source": [
    "plt.clf()\n",
    "fig = plt.figure()\n",
    "fig.suptitle('Scatter plot of Actual versus Predicted counts')\n",
    "plt.scatter(x=predicted_counts, y=actual_counts, marker='.')\n",
    "plt.xlabel('Predicted counts')\n",
    "plt.ylabel('Actual counts')\n",
    "plt.show()"
   ]
  }
 ],
 "metadata": {
  "kernelspec": {
   "display_name": "Python 3",
   "language": "python",
   "name": "python3"
  },
  "language_info": {
   "codemirror_mode": {
    "name": "ipython",
    "version": 3
   },
   "file_extension": ".py",
   "mimetype": "text/x-python",
   "name": "python",
   "nbconvert_exporter": "python",
   "pygments_lexer": "ipython3",
   "version": "3.7.6"
  }
 },
 "nbformat": 4,
 "nbformat_minor": 4
}
